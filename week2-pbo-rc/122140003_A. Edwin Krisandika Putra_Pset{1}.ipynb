{
 "cells": [
  {
   "cell_type": "code",
   "execution_count": 1,
   "id": "6fc2c286",
   "metadata": {},
   "outputs": [],
   "source": [
    "import random"
   ]
  },
  {
   "cell_type": "code",
   "execution_count": 40,
   "id": "700bda51",
   "metadata": {},
   "outputs": [],
   "source": [
    "class Parent:\n",
    "    def __init__(self,alleles):\n",
    "        self.__alleles = alleles\n",
    "    \n",
    "        if self.__alleles == \"AA\":\n",
    "            self.__bloodtype = \"A\" \n",
    "        elif self.__alleles == \"AO\" or self.__alleles == \"OA\":\n",
    "            self.__bloodtype = \"A\"\n",
    "        elif self.__alleles == \"AB\" or self.__alleles == \"BA\":\n",
    "            self.__bloodtype = \"AB\"\n",
    "        elif self.__alleles == \"BB\":\n",
    "            self.__bloodtype = \"B\"\n",
    "        elif self.__alleles == \"BO\" or self.__alleles == \"OB\":\n",
    "            self.__bloodtype = \"B\"\n",
    "        elif self.__alleles == \"OO\":\n",
    "            self.__bloodtype = \"O\"\n",
    "        \n",
    "    @property\n",
    "    def alleles(self):\n",
    "        return self.__alleles\n",
    "\n",
    "    @property\n",
    "    def bloodtype(self):\n",
    "        return self.__bloodtype\n",
    "    \n",
    "class Father(Parent):\n",
    "    def __init__(self, alleles):\n",
    "        super().__init__(alleles)\n",
    "        \n",
    "class Mother(Parent):\n",
    "    def __init__(self, alleles):\n",
    "        super().__init__(alleles)\n",
    "    \n",
    "class Child(Parent):\n",
    "    def __init__(self, father, mother):\n",
    "        self.__father = father\n",
    "        self.__mother = mother\n",
    "        self.__fatheral = str(father.alleles[random.randint(0,1)])\n",
    "        self.__motheral = str(mother.alleles[random.randint(0,1)])\n",
    "        self.__alleles = self.__fatheral + self.__motheral\n",
    "        super().__init__(self.__alleles)\n",
    "    \n",
    "    def __str__(self):\n",
    "        return(f\"Father's Blood Type : {self.__father.bloodtype}\\n\"\n",
    "              f\"Mother's Blood Type : {self.__father.bloodtype}\\n\"\n",
    "              f\"Father's Alleles : {self.__fatheral}\\n\"\n",
    "              f\"Mother's Alleles : {self.__motheral}\\n\"\n",
    "               \n",
    "              f\"Child's Blood Type : {self.bloodtype}\")\n",
    "        "
   ]
  },
  {
   "cell_type": "code",
   "execution_count": 41,
   "id": "d78279c6",
   "metadata": {},
   "outputs": [
    {
     "name": "stdout",
     "output_type": "stream",
     "text": [
      "Father's Blood Type : AB\n",
      "Mother's Blood Type : AB\n",
      "Child's Alleles : BB\n",
      "Father's Alleles : B\n",
      "Mother's Alleles : B\n",
      "Child's Blood Type : B\n"
     ]
    }
   ],
   "source": [
    "Budi = Father(\"AB\")\n",
    "Lesley = Mother(\"BB\")\n",
    "\n",
    "Sucipto = Child(Budi, Lesley)\n",
    "print(Sucipto)"
   ]
  },
  {
   "cell_type": "code",
   "execution_count": null,
   "id": "c1f1eab1",
   "metadata": {},
   "outputs": [],
   "source": []
  },
  {
   "cell_type": "code",
   "execution_count": null,
   "id": "b4dd0af3",
   "metadata": {},
   "outputs": [],
   "source": [
    "def __generate_child_alleles(self):\n",
    "        father_rate = random.randrange(1,100)\n",
    "        mother_rate = random.randrange(1,100)\n",
    "\n",
    "        child_alleles = str()\n",
    "\n",
    "        # get father's first allele\n",
    "        if father_rate <= 50:\n",
    "            child_alleles += self.__father.alleles[0]\n",
    "        else:\n",
    "            child_alleles += self.__father.alleles[1]\n",
    "\n",
    "        # get mother's allele\n",
    "        if mother_rate <= 50:\n",
    "            child_alleles += self.__mother.alleles[0]\n",
    "        else:\n",
    "            child_alleles += self.__mother.alleles[1]\n",
    "\n",
    "        return child_alleles"
   ]
  }
 ],
 "metadata": {
  "kernelspec": {
   "display_name": "Python 3 (ipykernel)",
   "language": "python",
   "name": "python3"
  },
  "language_info": {
   "codemirror_mode": {
    "name": "ipython",
    "version": 3
   },
   "file_extension": ".py",
   "mimetype": "text/x-python",
   "name": "python",
   "nbconvert_exporter": "python",
   "pygments_lexer": "ipython3",
   "version": "3.11.5"
  }
 },
 "nbformat": 4,
 "nbformat_minor": 5
}
